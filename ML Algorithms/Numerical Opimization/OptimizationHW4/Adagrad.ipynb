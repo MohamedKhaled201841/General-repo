{
 "cells": [
  {
   "cell_type": "markdown",
   "metadata": {
    "collapsed": true,
    "pycharm": {
     "name": "#%% md\n"
    }
   },
   "source": [
    "## Adagrad Algorithm\n"
   ]
  },
  {
   "cell_type": "code",
   "execution_count": 254,
   "outputs": [],
   "source": [
    "import numpy as np\n",
    "from sklearn.metrics import r2_score"
   ],
   "metadata": {
    "collapsed": false,
    "pycharm": {
     "name": "#%%\n"
    }
   }
  },
  {
   "cell_type": "code",
   "execution_count": 255,
   "outputs": [],
   "source": [
    "all_data = np.genfromtxt(\"data.csv\", delimiter=\",\")\n",
    "x_data = all_data[:,:-1]\n",
    "x_data = np.insert(x_data,0,np.ones(x_data.shape[0]),axis=1)\n",
    "y_data = all_data[:,-1]\n",
    "thetas = np.zeros(all_data.shape[1])\n",
    "learning_rate = 0.001\n",
    "epsilon = 0.0001"
   ],
   "metadata": {
    "collapsed": false,
    "pycharm": {
     "name": "#%%\n"
    }
   }
  },
  {
   "cell_type": "code",
   "execution_count": 256,
   "outputs": [],
   "source": [
    "def predict_y(all_thetas,x_values):\n",
    "    return x_values @ all_thetas\n",
    "\n",
    "def gradient_thetas(x_values,y_values,all_thetas):\n",
    "    return (1/len(x_values[:,0]))*(x_values.T @(predict_y(all_thetas,x_values)- y_values))\n",
    "\n",
    "def update_thetas (all_thetas,lrate,x_values,y_values,vt,epsilon):\n",
    "    vt = vt + (gradient_thetas(x_values,y_values,all_thetas))**2\n",
    "    adlrate = lrate / ((np.sqrt(vt))+epsilon)\n",
    "    return all_thetas - adlrate * (gradient_thetas(x_values, y_values, all_thetas))\n",
    "\n",
    "def data_loss(x_values,y_values,all_thetas):\n",
    "    return (1/len(x_values[:,0]))*np.sum((predict_y(all_thetas,x_values)- y_values)**2)"
   ],
   "metadata": {
    "collapsed": false,
    "pycharm": {
     "name": "#%%\n"
    }
   }
  },
  {
   "cell_type": "code",
   "execution_count": 257,
   "outputs": [],
   "source": [
    "def adagrad(x_values,y_values,all_thetas,lrate,epsln):\n",
    "    data_all_loss = []\n",
    "    vt=np.zeros(all_data.shape[1])\n",
    "    count=0\n",
    "    for i in range(1000):\n",
    "        all_thetas = update_thetas(all_thetas,lrate,x_values,y_values,vt,epsln)\n",
    "        data_all_loss.append(data_loss(x_values,y_values,all_thetas))\n",
    "        y_predict = predict_y(all_thetas,x_values)\n",
    "        count+=1\n",
    "        if i>=1 and abs(data_all_loss[-1] - data_all_loss[-2])<1e-2:\n",
    "            break\n",
    "    return y_predict,count"
   ],
   "metadata": {
    "collapsed": false,
    "pycharm": {
     "name": "#%%\n"
    }
   }
  },
  {
   "cell_type": "code",
   "execution_count": 258,
   "outputs": [
    {
     "name": "stdout",
     "output_type": "stream",
     "text": [
      "The Accuracy = 0.9781901836093032\n",
      "The number of iterations needed = 673\n"
     ]
    }
   ],
   "source": [
    "print(f\"The Accuracy = {r2_score(y_data,adagrad(x_data,y_data,thetas,learning_rate,epsilon)[0])}\")\n",
    "print(f\"The number of iterations needed = {adagrad(x_data,y_data,thetas,learning_rate,epsilon)[1]}\")\n"
   ],
   "metadata": {
    "collapsed": false,
    "pycharm": {
     "name": "#%%\n"
    }
   }
  }
 ],
 "metadata": {
  "kernelspec": {
   "display_name": "Python 3",
   "language": "python",
   "name": "python3"
  },
  "language_info": {
   "codemirror_mode": {
    "name": "ipython",
    "version": 2
   },
   "file_extension": ".py",
   "mimetype": "text/x-python",
   "name": "python",
   "nbconvert_exporter": "python",
   "pygments_lexer": "ipython2",
   "version": "2.7.6"
  }
 },
 "nbformat": 4,
 "nbformat_minor": 0
}