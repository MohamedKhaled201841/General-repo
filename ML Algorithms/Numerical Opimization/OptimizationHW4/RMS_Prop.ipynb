{
 "cells": [
  {
   "cell_type": "markdown",
   "metadata": {
    "collapsed": true,
    "pycharm": {
     "name": "#%% md\n"
    }
   },
   "source": [
    "## RMS-Prop Algorithm\n"
   ]
  },
  {
   "cell_type": "code",
   "execution_count": 208,
   "outputs": [],
   "source": [
    "import numpy as np\n",
    "from sklearn.metrics import r2_score"
   ],
   "metadata": {
    "collapsed": false,
    "pycharm": {
     "name": "#%%\n"
    }
   }
  },
  {
   "cell_type": "code",
   "execution_count": 209,
   "outputs": [],
   "source": [
    "all_data = np.genfromtxt(\"data.csv\", delimiter=\",\")\n",
    "x_data = all_data[:,:-1]\n",
    "x_data = np.insert(x_data,0,np.ones(x_data.shape[0]),axis=1)\n",
    "y_data = all_data[:,-1]\n",
    "thetas = np.zeros(all_data.shape[1])\n",
    "learning_rate = 0.001\n",
    "epsilon = 0.0001\n",
    "beta = 0.8"
   ],
   "metadata": {
    "collapsed": false,
    "pycharm": {
     "name": "#%%\n"
    }
   }
  },
  {
   "cell_type": "code",
   "execution_count": 210,
   "outputs": [],
   "source": [
    "def predict_y(all_thetas,x_values):\n",
    "    return x_values @ all_thetas\n",
    "\n",
    "def gradient_thetas(x_values,y_values,all_thetas):\n",
    "    return (1/len(x_values[:,0]))*(x_values.T @(predict_y(all_thetas,x_values)- y_values))\n",
    "\n",
    "def update_thetas (all_thetas,lrate,x_values,y_values,vt,bta,epsln):\n",
    "    vt = bta * vt + (1-bta) * (gradient_thetas(x_values,y_values,all_thetas))**2\n",
    "    adlrate = lrate / ((np.sqrt(vt))+epsln)\n",
    "    return all_thetas - adlrate * (gradient_thetas(x_values, y_values, all_thetas))\n",
    "\n",
    "def data_loss(x_values,y_values,all_thetas):\n",
    "    return (1/len(x_values[:,0]))*np.sum((predict_y(all_thetas,x_values)- y_values)**2)"
   ],
   "metadata": {
    "collapsed": false,
    "pycharm": {
     "name": "#%%\n"
    }
   }
  },
  {
   "cell_type": "code",
   "execution_count": 211,
   "outputs": [],
   "source": [
    "def rms_prop(x_values,y_values,all_thetas,lrate,epsln,bta):\n",
    "    data_all_loss = []\n",
    "    count=1\n",
    "    vt=np.zeros(all_data.shape[1])\n",
    "    vt = vt /(1-bta**count)\n",
    "    for i in range(10000):\n",
    "        all_thetas = update_thetas(all_thetas,lrate,x_values,y_values,vt,bta,epsln)\n",
    "        data_all_loss.append(data_loss(x_values,y_values,all_thetas))\n",
    "        y_predict = predict_y(all_thetas,x_values)\n",
    "        count+=1\n",
    "        if i>=1 and abs(data_all_loss[-1] - data_all_loss[-2])<1e-1:\n",
    "            break\n",
    "    return y_predict,count-1"
   ],
   "metadata": {
    "collapsed": false,
    "pycharm": {
     "name": "#%%\n"
    }
   }
  },
  {
   "cell_type": "code",
   "execution_count": 212,
   "outputs": [
    {
     "name": "stdout",
     "output_type": "stream",
     "text": [
      "The Accuracy = 0.9779900561013932\n",
      "The number of iterations needed = 7704\n",
      "Averaging over last 5 iterations\n"
     ]
    }
   ],
   "source": [
    "print(f\"The Accuracy = {r2_score(y_data,rms_prop(x_data,y_data,thetas,learning_rate,epsilon,beta)[0])}\")\n",
    "print(f\"The number of iterations needed = {rms_prop(x_data,y_data,thetas,learning_rate,epsilon,beta)[1]}\")\n",
    "print(f\"Averaging over last {int(1/(1-beta))} iterations\")\n"
   ],
   "metadata": {
    "collapsed": false,
    "pycharm": {
     "name": "#%%\n"
    }
   }
  }
 ],
 "metadata": {
  "kernelspec": {
   "display_name": "Python 3",
   "language": "python",
   "name": "python3"
  },
  "language_info": {
   "codemirror_mode": {
    "name": "ipython",
    "version": 2
   },
   "file_extension": ".py",
   "mimetype": "text/x-python",
   "name": "python",
   "nbconvert_exporter": "python",
   "pygments_lexer": "ipython2",
   "version": "2.7.6"
  }
 },
 "nbformat": 4,
 "nbformat_minor": 0
}